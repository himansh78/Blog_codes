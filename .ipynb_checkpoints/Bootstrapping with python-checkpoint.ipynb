{
 "cells": [
  {
   "cell_type": "code",
   "execution_count": 1,
   "metadata": {},
   "outputs": [],
   "source": [
    "from sklearn.utils import resample\n",
    "import numpy as np\n",
    "\n",
    "# Create a sample data\n",
    "data = [1, 2, 3, 4, 5, 6, 7, 8, 9, 10]\n",
    "\n",
    "# Bootstrap the sample data\n",
    "bootstrap_means = []\n",
    "for i in range(1000):\n",
    "    bootstrap_sample = resample(data)\n",
    "    bootstrap_means.append(np.mean(bootstrap_sample))\n"
   ]
  },
  {
   "cell_type": "code",
   "execution_count": 2,
   "metadata": {},
   "outputs": [
    {
     "data": {
      "image/png": "[encoded data removed]",
      "text/plain": [
       "<Figure size 432x288 with 1 Axes>"
      ]
     },
     "metadata": {
      "needs_background": "light"
     },
     "output_type": "display_data"
    }
   ],
   "source": [
    "import matplotlib.pyplot as plt\n",
    "\n",
    "plt.hist(bootstrap_means, bins=50)\n",
    "plt.xlabel('Bootstrap Means')\n",
    "plt.ylabel('Frequency')\n",
    "plt.show()\n"
   ]
  },
  {
   "cell_type": "code",
   "execution_count": 3,
   "metadata": {},
   "outputs": [
    {
     "name": "stdout",
     "output_type": "stream",
     "text": [
      "95% Confidence Interval: [3.7 7.3]\n"
     ]
    }
   ],
   "source": [
    "from sklearn.utils import resample\n",
    "import numpy as np\n",
    "\n",
    "# Create a sample data\n",
    "data = [1, 2, 3, 4, 5, 6, 7, 8, 9, 10]\n",
    "\n",
    "# Bootstrap the sample data\n",
    "bootstrap_means = []\n",
    "for i in range(1000):\n",
    "    bootstrap_sample = resample(data)\n",
    "    bootstrap_means.append(np.mean(bootstrap_sample))\n",
    "\n",
    "# Calculate the 95% confidence interval\n",
    "confidence_interval = np.percentile(bootstrap_means, [2.5, 97.5])\n",
    "print(\"95% Confidence Interval:\", confidence_interval)\n"
   ]
  },
  {
   "cell_type": "code",
   "execution_count": 4,
   "metadata": {},
   "outputs": [
    {
     "name": "stdout",
     "output_type": "stream",
     "text": [
      "Mean Difference: -1.4865095514481848\n",
      "P-Value: 0.4963\n"
     ]
    }
   ],
   "source": [
    "import numpy as np\n",
    "from sklearn.utils import resample\n",
    "\n",
    "# Create a synthetic dataset\n",
    "np.random.seed(42)\n",
    "sample1 = np.random.normal(5, 2, 50)\n",
    "sample2 = np.random.normal(6, 2, 50)\n",
    "\n",
    "# Compute the mean of the two samples\n",
    "mean_diff = np.mean(sample1) - np.mean(sample2)\n",
    "\n",
    "# Generate bootstrap samples of the difference in means\n",
    "mean_diffs = []\n",
    "for _ in range(10000):\n",
    "    sample1_bs = resample(sample1)\n",
    "    sample2_bs = resample(sample2)\n",
    "    mean_diffs.append(np.mean(sample1_bs) - np.mean(sample2_bs))\n",
    "\n",
    "# Compute the p-value\n",
    "p_value = np.sum(np.array(mean_diffs) >= mean_diff) / len(mean_diffs)\n",
    "\n",
    "# Print the results\n",
    "print(\"Mean Difference:\", mean_diff)\n",
    "print(\"P-Value:\", p_value)\n"
   ]
  },
  {
   "cell_type": "code",
   "execution_count": 5,
   "metadata": {},
   "outputs": [
    {
     "data": {
      "image/png": "[encoded data removed]",
      "text/plain": [
       "<Figure size 432x288 with 1 Axes>"
      ]
     },
     "metadata": {
      "needs_background": "light"
     },
     "output_type": "display_data"
    }
   ],
   "source": [
    "import matplotlib.pyplot as plt\n",
    "plt.hist(mean_diffs, bins=50)\n",
    "plt.xlabel('Bootstrapped Mean Differences')\n",
    "plt.ylabel('Frequency')\n",
    "plt.axvline(mean_diff, color='r', linestyle='dashed', linewidth=2)\n",
    "plt.show()\n",
    "\n",
    "\n",
    "\n",
    "\n"
   ]
  }
 ],
 "metadata": {
  "kernelspec": {
   "display_name": "Python 3",
   "language": "python",
   "name": "python3"
  },
  "language_info": {
   "codemirror_mode": {
    "name": "ipython",
    "version": 3
   },
   "file_extension": ".py",
   "mimetype": "text/x-python",
   "name": "python",
   "nbconvert_exporter": "python",
   "pygments_lexer": "ipython3",
   "version": "3.8.5"
  }
 },
 "nbformat": 4,
 "nbformat_minor": 4
}
