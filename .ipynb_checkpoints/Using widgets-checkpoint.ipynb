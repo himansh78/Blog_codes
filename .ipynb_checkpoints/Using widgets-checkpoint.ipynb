{
 "cells": [
  {
   "cell_type": "code",
   "execution_count": 1,
   "metadata": {},
   "outputs": [
    {
     "data": {
      "application/vnd.jupyter.widget-view+json": {
       "model_id": "0f262301208748c1bb0053da3a1109f8",
       "version_major": 2,
       "version_minor": 0
      },
      "text/plain": [
       "interactive(children=(FloatSlider(value=0.0, description='Min Elevation', max=1.0, step=0.01), FloatSlider(val…"
      ]
     },
     "metadata": {},
     "output_type": "display_data"
    },
    {
     "data": {
      "text/plain": [
       "<function __main__.display_topography(min_elevation, max_elevation)>"
      ]
     },
     "execution_count": 1,
     "metadata": {},
     "output_type": "execute_result"
    }
   ],
   "source": [
    "import numpy as np\n",
    "import matplotlib.pyplot as plt\n",
    "from ipywidgets import interact, FloatSlider\n",
    "\n",
    "# Define the size of the topography\n",
    "nx, ny = 100, 100\n",
    "\n",
    "# Create a 2D array of random values\n",
    "elevation = np.random.rand(nx, ny)\n",
    "\n",
    "# Define the function to display the topography\n",
    "def display_topography(min_elevation, max_elevation):\n",
    "    plt.imshow(elevation, cmap='terrain', vmin=min_elevation, vmax=max_elevation)\n",
    "    plt.colorbar()\n",
    "    plt.show()\n",
    "\n",
    "# Create the elevation range sliders\n",
    "min_elevation_slider = FloatSlider(min=0, max=1, step=0.01, value=0, description='Min Elevation')\n",
    "max_elevation_slider = FloatSlider(min=0, max=1, step=0.01, value=1, description='Max Elevation')\n",
    "\n",
    "# Use the `interact` function to create the interactive visualization\n",
    "interact(display_topography, min_elevation=min_elevation_slider, max_elevation=max_elevation_slider)\n"
   ]
  },
  {
   "cell_type": "code",
   "execution_count": 21,
   "metadata": {},
   "outputs": [
    {
     "data": {
      "application/vnd.jupyter.widget-view+json": {
       "model_id": "b5c4ed57fcf045cbb02ace3d132c6d2c",
       "version_major": 2,
       "version_minor": 0
      },
      "text/plain": [
       "interactive(children=(IntRangeSlider(value=(2010, 2019), description='Year Range', max=2019, min=2010), Output…"
      ]
     },
     "metadata": {},
     "output_type": "display_data"
    },
    {
     "data": {
      "text/plain": [
       "<function __main__.plot_timeseries(year_range)>"
      ]
     },
     "execution_count": 21,
     "metadata": {},
     "output_type": "execute_result"
    }
   ],
   "source": [
    "import numpy as np\n",
    "from ipywidgets import IntRangeSlider, interact\n",
    "import matplotlib.pyplot as plt\n",
    "\n",
    "# generate synthetic data\n",
    "years = np.arange(2010, 2020)\n",
    "values = np.random.rand(10)\n",
    "\n",
    "# create a function to plot the time series\n",
    "def plot_timeseries(year_range):\n",
    "    start_year, end_year = year_range\n",
    "    data_range = (years >= start_year) & (years <= end_year)\n",
    "    plt.plot(years[data_range], values[data_range])\n",
    "    plt.xlabel('Year')\n",
    "    plt.ylabel('Value')\n",
    "    plt.show()\n",
    "\n",
    "# create a widget to control the year range\n",
    "year_range_slider = IntRangeSlider(value=[2010, 2020], min=2010, max=2019, step=1, description='Year Range')\n",
    "\n",
    "# use the interact function to link the function with the widget\n",
    "interact(plot_timeseries, year_range=year_range_slider)\n"
   ]
  },
  {
   "cell_type": "code",
   "execution_count": null,
   "metadata": {},
   "outputs": [],
   "source": []
  },
  {
   "cell_type": "code",
   "execution_count": null,
   "metadata": {},
   "outputs": [],
   "source": []
  }
 ],
 "metadata": {
  "kernelspec": {
   "display_name": "Python 3",
   "language": "python",
   "name": "python3"
  },
  "language_info": {
   "codemirror_mode": {
    "name": "ipython",
    "version": 3
   },
   "file_extension": ".py",
   "mimetype": "text/x-python",
   "name": "python",
   "nbconvert_exporter": "python",
   "pygments_lexer": "ipython3",
   "version": "3.8.5"
  }
 },
 "nbformat": 4,
 "nbformat_minor": 4
}
