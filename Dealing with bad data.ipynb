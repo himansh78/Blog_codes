{
 "cells": [
  {
   "cell_type": "code",
   "execution_count": 1,
   "metadata": {},
   "outputs": [
    {
     "name": "stdout",
     "output_type": "stream",
     "text": [
      "     A    B     C\n",
      "0  1.0  5.0   9.0\n",
      "1  2.0  NaN  10.0\n",
      "2  NaN  NaN  11.0\n",
      "3  4.0  8.0   NaN\n",
      "     A    B     C\n",
      "0  1.0  5.0   9.0\n",
      "1  2.0  0.0  10.0\n",
      "2  0.0  0.0  11.0\n",
      "3  4.0  8.0   0.0\n",
      "          A    B     C\n",
      "0  1.000000  5.0   9.0\n",
      "1  2.000000  6.5  10.0\n",
      "2  2.333333  6.5  11.0\n",
      "3  4.000000  8.0  10.0\n",
      "          A    B     C\n",
      "0  1.000000  5.0   9.0\n",
      "1  2.000000  6.5  10.0\n",
      "2  2.333333  6.5  11.0\n",
      "3  4.000000  8.0  10.0\n"
     ]
    }
   ],
   "source": [
    "import pandas as pd\n",
    "import numpy as np\n",
    "\n",
    "# Create a DataFrame with synthetic data and missing values\n",
    "df = pd.DataFrame({'A': [1, 2, np.nan, 4],\n",
    "                   'B': [5, np.nan, np.nan, 8],\n",
    "                   'C': [9, 10, 11, np.nan]})\n",
    "print(df)\n",
    "\n",
    "# Replace missing values with 0\n",
    "df.fillna(0, inplace=True)\n",
    "print(df)\n",
    "\n",
    "# Replace missing values with the mean of the column\n",
    "df = pd.DataFrame({'A': [1, 2, np.nan, 4],\n",
    "                   'B': [5, np.nan, np.nan, 8],\n",
    "                   'C': [9, 10, 11, np.nan]})\n",
    "df = df.apply(lambda x: x.fillna(x.mean()),axis=0)\n",
    "print(df)\n",
    "\n",
    "# Drop rows with missing values\n",
    "df.dropna(inplace=True)\n",
    "print(df)\n"
   ]
  },
  {
   "cell_type": "code",
   "execution_count": 10,
   "metadata": {},
   "outputs": [
    {
     "name": "stdout",
     "output_type": "stream",
     "text": [
      "    A   B   C\n",
      "0   1   5   9\n",
      "1   2  10  10\n",
      "2  30  15  11\n",
      "3   4   8  12\n",
      "4  50  20  30\n",
      "    A   B   C\n",
      "0   1   5   9\n",
      "1   2  10  10\n",
      "2  30  15  11\n",
      "3   4   8  12\n",
      "4  50  20  30\n",
      "    A   B   C\n",
      "0   1   5   9\n",
      "1   2  10  10\n",
      "2  30  15  11\n",
      "3   4   8  12\n"
     ]
    }
   ],
   "source": [
    "import pandas as pd\n",
    "import numpy as np\n",
    "from scipy import stats\n",
    "# Create a DataFrame with synthetic data and outliers\n",
    "df = pd.DataFrame({'A': [1, 2, 30, 4, 50],\n",
    "                   'B': [5, 10, 15, 8, 20],\n",
    "                   'C': [9, 10, 11, 12, 30]})\n",
    "print(df)\n",
    "\n",
    "# Identify and remove outliers based on z-score\n",
    "z = np.abs(stats.zscore(df))\n",
    "df = df[(z < 3).all(axis=1)]\n",
    "print(df)\n",
    "\n",
    "# Identify and remove outliers based on quantile\n",
    "Q1 = df.quantile(0.25)\n",
    "Q3 = df.quantile(0.75)\n",
    "IQR = Q3 - Q1\n",
    "df = df[~((df < (Q1 - 1.5 * IQR)) |(df > (Q3 + 1.5 * IQR))).any(axis=1)]\n",
    "print(df)\n"
   ]
  },
  {
   "cell_type": "code",
   "execution_count": 7,
   "metadata": {},
   "outputs": [
    {
     "name": "stdout",
     "output_type": "stream",
     "text": [
      "   A  B   C\n",
      "0  1  5   9\n",
      "1  2  6  10\n",
      "2  2  6  10\n",
      "3  4  8  12\n",
      "   A  B   C\n",
      "0  1  5   9\n",
      "1  2  6  10\n",
      "3  4  8  12\n"
     ]
    }
   ],
   "source": [
    "import pandas as pd\n",
    "\n",
    "# Create a DataFrame with synthetic data and duplicate rows\n",
    "df = pd.DataFrame({'A': [1, 2, 2, 4],\n",
    "                   'B': [5, 6, 6, 8],\n",
    "                   'C': [9, 10, 10, 12]})\n",
    "print(df)\n",
    "\n",
    "# Remove duplicate rows\n",
    "df.drop_duplicates(inplace=True)\n",
    "print(df)\n"
   ]
  },
  {
   "cell_type": "code",
   "execution_count": 11,
   "metadata": {},
   "outputs": [
    {
     "name": "stdout",
     "output_type": "stream",
     "text": [
      "   A  B   C\n",
      "0  1  5   9\n",
      "1  2  6  10\n",
      "2  3  7  11\n",
      "3  4  8  12\n",
      "   A  B   C\n",
      "0  1  5   9\n",
      "1  2  6  10\n",
      "2  3  7  11\n",
      "3  4  8  12\n",
      "   A  B   C\n",
      "0  1  5   9\n",
      "1  2  6  10\n",
      "2  3  7  11\n",
      "3  4  8  12\n"
     ]
    }
   ],
   "source": [
    "import pandas as pd\n",
    "\n",
    "# Create a DataFrame with synthetic data and wrong data types\n",
    "df = pd.DataFrame({'A': [1, '2', '3', 4],\n",
    "                   'B': [5, '6', '7', 8],\n",
    "                   'C': [9, 10, '11', 12]})\n",
    "print(df)\n",
    "\n",
    "# Change data type of column 'A' from string to int\n",
    "df['A'] = df['A'].astype(int)\n",
    "print(df)\n",
    "\n",
    "#Change data type of column 'B' and 'C' from string to int\n",
    "df[['B','C']] = df[['B','C']].apply(pd.to_numeric, errors='coerce')\n",
    "print(df)\n",
    "\n"
   ]
  },
  {
   "cell_type": "code",
   "execution_count": 12,
   "metadata": {},
   "outputs": [
    {
     "name": "stdout",
     "output_type": "stream",
     "text": [
      "   A  B   C\n",
      "0  1  5   9\n",
      "1  2  6  10\n",
      "2  3  7  11\n",
      "3  4  8  12\n",
      "   A  B   C\n",
      "0  1  5   9\n",
      "1  2  6  10\n",
      "2  3  7  11\n",
      "3  4  8  12\n",
      "   A  B   C\n",
      "0  1  5   9\n",
      "1  2  6  10\n",
      "2  3  7  11\n",
      "3  4  8  12\n"
     ]
    }
   ],
   "source": [
    "import pandas as pd\n",
    "\n",
    "# Create a DataFrame with synthetic data and wrong data types\n",
    "df = pd.DataFrame({'A': [1, '2', '3', 4],\n",
    "                   'B': [5, '6', '7', 8],\n",
    "                   'C': [9, 10, '11', 12]})\n",
    "print(df)\n",
    "\n",
    "# Change data type of column 'A' from string to int\n",
    "df['A'] = df['A'].astype(int)\n",
    "print(df)\n",
    "\n",
    "#Change data type of column 'B' and 'C' from string to int\n",
    "df[['B','C']] = df[['B','C']].apply(pd.to_numeric, errors='coerce')\n",
    "print(df)\n",
    "\n"
   ]
  }
 ],
 "metadata": {
  "kernelspec": {
   "display_name": "Python 3",
   "language": "python",
   "name": "python3"
  },
  "language_info": {
   "codemirror_mode": {
    "name": "ipython",
    "version": 3
   },
   "file_extension": ".py",
   "mimetype": "text/x-python",
   "name": "python",
   "nbconvert_exporter": "python",
   "pygments_lexer": "ipython3",
   "version": "3.8.5"
  }
 },
 "nbformat": 4,
 "nbformat_minor": 4
}
