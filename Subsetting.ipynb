{
 "cells": [
  {
   "cell_type": "code",
   "execution_count": 10,
   "metadata": {},
   "outputs": [
    {
     "name": "stdout",
     "output_type": "stream",
     "text": [
      "  Location  Rock Type  Depth  Temperature  Porosity  Permeability  \\\n",
      "0        A  Sandstone   1000           20      0.20           100   \n",
      "1        B  Limestone    800           22      0.25           200   \n",
      "2        C      Shale    600           25      0.30           300   \n",
      "3        D  Sandstone    400           27      0.35           400   \n",
      "4        E  Limestone    200           30      0.40           500   \n",
      "5        F  Sandstone   1200           35      0.50           600   \n",
      "6        G  Limestone   1000           40      0.55           700   \n",
      "7        H      Shale    800           38      0.60           800   \n",
      "8        I  Sandstone    700           35      0.65           900   \n",
      "9        J  Limestone    600           32      0.70          1000   \n",
      "\n",
      "  Mineral_Composition  \n",
      "0        [Fe, Mg, Ca]  \n",
      "1        [Fe, Mg, Si]  \n",
      "2            [Si, Al]  \n",
      "3        [Fe, Mg, Ca]  \n",
      "4        [Fe, Mg, Si]  \n",
      "5        [Fe, Mg, Ca]  \n",
      "6        [Fe, Mg, Si]  \n",
      "7            [Si, Al]  \n",
      "8        [Fe, Mg, Ca]  \n",
      "9        [Fe, Mg, Si]  \n"
     ]
    }
   ],
   "source": [
    "import pandas as pd\n",
    "\n",
    "# Create a synthetic dataset of rock samples\n",
    "data = {'Location': ['A', 'B', 'C', 'D', 'E','F','G','H','I','J'],\n",
    "        'Rock Type': ['Sandstone', 'Limestone', 'Shale', 'Sandstone', 'Limestone','Sandstone', 'Limestone', 'Shale', 'Sandstone', 'Limestone'],\n",
    "        'Depth': [1000, 800, 600, 400, 200,1200,1000,800,700,600],\n",
    "        'Temperature':[20,22,25,27,30,35,40,38,35,32],\n",
    "        'Porosity':[0.2,0.25,0.3,0.35,0.4,0.5,0.55,0.6,0.65,0.7],\n",
    "        'Permeability':[100,200,300,400,500,600,700,800,900,1000],\n",
    "       'Permeability':[100,200,300,400,500,600,700,800,900,1000],\n",
    "        'Mineral_Composition':[['Fe','Mg','Ca'],['Fe','Mg','Si'],['Si','Al'],['Fe','Mg','Ca'],['Fe','Mg','Si'],['Fe','Mg','Ca'],['Fe','Mg','Si'],['Si','Al'],['Fe','Mg','Ca'],['Fe','Mg','Si']]}\n",
    "df = pd.DataFrame(data)\n",
    "\n",
    "print(df)"
   ]
  },
  {
   "cell_type": "code",
   "execution_count": 14,
   "metadata": {},
   "outputs": [
    {
     "name": "stdout",
     "output_type": "stream",
     "text": [
      "  Location  Rock Type  Depth  Temperature  Porosity  Permeability  \\\n",
      "0        A  Sandstone   1000           20      0.20           100   \n",
      "3        D  Sandstone    400           27      0.35           400   \n",
      "5        F  Sandstone   1200           35      0.50           600   \n",
      "8        I  Sandstone    700           35      0.65           900   \n",
      "\n",
      "  Mineral_Composition  \n",
      "0        [Fe, Mg, Ca]  \n",
      "3        [Fe, Mg, Ca]  \n",
      "5        [Fe, Mg, Ca]  \n",
      "8        [Fe, Mg, Ca]  \n"
     ]
    }
   ],
   "source": [
    "sandstone_samples = df[(df['Rock Type'] == 'Sandstone')]\n",
    "print(sandstone_samples)"
   ]
  },
  {
   "cell_type": "code",
   "execution_count": 11,
   "metadata": {},
   "outputs": [
    {
     "name": "stdout",
     "output_type": "stream",
     "text": [
      "  Location  Rock Type  Depth  Temperature  Porosity  Permeability  \\\n",
      "0        A  Sandstone   1000           20       0.2           100   \n",
      "5        F  Sandstone   1200           35       0.5           600   \n",
      "\n",
      "  Mineral_Composition  \n",
      "0        [Fe, Mg, Ca]  \n",
      "5        [Fe, Mg, Ca]  \n"
     ]
    }
   ],
   "source": [
    "# Use pandas to subset the data based on specific criteria\n",
    "# e.g. all the samples that are sandstone and have depth between 800 to 1200\n",
    "sandstone_samples = df[(df['Rock Type'] == 'Sandstone') & (df['Depth'].between(800, 1200))]\n",
    "print(sandstone_samples)\n",
    "\n",
    "# Output:\n",
    "#  Location Rock Type  Depth Temperature Porosity Permeability\n",
    "# 0       A  Sandstone   1000         20     0.2           100\n",
    "# 3       D  Sandstone    400         27    0.35           400\n",
    "# 5       F  Sandstone   1200         35    0.50           600\n"
   ]
  },
  {
   "cell_type": "code",
   "execution_count": 12,
   "metadata": {},
   "outputs": [
    {
     "name": "stdout",
     "output_type": "stream",
     "text": [
      "  Location  Rock Type  Depth  Temperature  Porosity  Permeability  \\\n",
      "0        A  Sandstone   1000           20       0.2           100   \n",
      "5        F  Sandstone   1200           35       0.5           600   \n",
      "\n",
      "  Mineral_Composition  \n",
      "0        [Fe, Mg, Ca]  \n",
      "5        [Fe, Mg, Ca]  \n"
     ]
    }
   ],
   "source": [
    "sandstone_samples = df[(df['Rock Type'] == 'Sandstone') & (df['Depth'].between(800, 1200)) & (df['Mineral_Composition'].apply(lambda x: 'Fe' in x))]\n",
    "print(sandstone_samples)"
   ]
  },
  {
   "cell_type": "code",
   "execution_count": null,
   "metadata": {},
   "outputs": [],
   "source": []
  }
 ],
 "metadata": {
  "kernelspec": {
   "display_name": "Python 3",
   "language": "python",
   "name": "python3"
  },
  "language_info": {
   "codemirror_mode": {
    "name": "ipython",
    "version": 3
   },
   "file_extension": ".py",
   "mimetype": "text/x-python",
   "name": "python",
   "nbconvert_exporter": "python",
   "pygments_lexer": "ipython3",
   "version": "3.8.5"
  }
 },
 "nbformat": 4,
 "nbformat_minor": 4
}
