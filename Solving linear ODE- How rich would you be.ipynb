{
 "cells": [
  {
   "cell_type": "code",
   "execution_count": 8,
   "metadata": {},
   "outputs": [],
   "source": [
    "import numpy as np\n",
    "from scipy.integrate import odeint\n",
    "\n",
    "def dydt(y, t, r):\n",
    "    return r * y\n"
   ]
  },
  {
   "cell_type": "code",
   "execution_count": 9,
   "metadata": {},
   "outputs": [],
   "source": [
    "y0 = 1000 # initial amount of savings\n",
    "t = np.linspace(0, 10, 100) # time range from 0 to 10 years in 100 steps\n",
    "r = 0.02 # interest rate of 2% per year\n"
   ]
  },
  {
   "cell_type": "code",
   "execution_count": 10,
   "metadata": {},
   "outputs": [],
   "source": [
    "sol = odeint(dydt, y0, t, args=(r,))\n"
   ]
  },
  {
   "cell_type": "code",
   "execution_count": 11,
   "metadata": {},
   "outputs": [
    {
     "data": {
      "image/png": "[encoded data removed]",
      "text/plain": [
       "<Figure size 432x288 with 1 Axes>"
      ]
     },
     "metadata": {
      "needs_background": "light"
     },
     "output_type": "display_data"
    }
   ],
   "source": [
    "import matplotlib.pyplot as plt\n",
    "\n",
    "plt.plot(t, sol[:, 0], label='Savings')\n",
    "plt.xlabel('Time (years)')\n",
    "plt.ylabel('Amount of savings')\n",
    "plt.legend()\n",
    "plt.show()\n"
   ]
  },
  {
   "cell_type": "code",
   "execution_count": 13,
   "metadata": {},
   "outputs": [
    {
     "data": {
      "application/vnd.jupyter.widget-view+json": {
       "model_id": "1f3fa11da6c74ca3ae8d1a2d911c30e6",
       "version_major": 2,
       "version_minor": 0
      },
      "text/plain": [
       "interactive(children=(FloatSlider(value=0.02, continuous_update=False, description='r', max=0.08, min=0.01, st…"
      ]
     },
     "metadata": {},
     "output_type": "display_data"
    },
    {
     "data": {
      "text/plain": [
       "<function __main__.plot_ode(r)>"
      ]
     },
     "execution_count": 13,
     "metadata": {},
     "output_type": "execute_result"
    }
   ],
   "source": [
    "import numpy as np\n",
    "import matplotlib.pyplot as plt\n",
    "from scipy.integrate import odeint\n",
    "from ipywidgets import interact, FloatSlider\n",
    "\n",
    "def dydt(y, t, r):\n",
    "    return r * y\n",
    "\n",
    "def plot_ode(r):\n",
    "    y0 = 1000 # initial amount of savings\n",
    "    t = np.linspace(0, 10, 100) # time range from 0 to 10 years in 100 steps\n",
    "    sol = odeint(dydt, y0, t, args=(r,))\n",
    "    \n",
    "    plt.plot(t, sol[:, 0], label='Savings')\n",
    "    plt.xlabel('Time (years)')\n",
    "    plt.ylabel('Amount of savings')\n",
    "    plt.legend()\n",
    "    plt.show()\n",
    "\n",
    "interact(plot_ode, r=FloatSlider(min=0.01, max=0.08, step=0.01, value=0.02, continuous_update=False))\n"
   ]
  }
 ],
 "metadata": {
  "kernelspec": {
   "display_name": "Python 3",
   "language": "python",
   "name": "python3"
  },
  "language_info": {
   "codemirror_mode": {
    "name": "ipython",
    "version": 3
   },
   "file_extension": ".py",
   "mimetype": "text/x-python",
   "name": "python",
   "nbconvert_exporter": "python",
   "pygments_lexer": "ipython3",
   "version": "3.8.5"
  }
 },
 "nbformat": 4,
 "nbformat_minor": 4
}
